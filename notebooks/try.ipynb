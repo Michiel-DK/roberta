{
 "cells": [
  {
   "cell_type": "code",
   "execution_count": 1,
   "metadata": {},
   "outputs": [],
   "source": [
    "dic = [{'task': 'qa', 'predictions': [{'question': 'What is the jurisdiction of the agreement/contract?', 'id': '0-0', 'ground_truth': [], 'answers': [{'score': 8.662841796875, 'probability': None, 'answer': 'Affiliate\\xa0is\\xa0only\\xa0entitled\\xa0to\\xa0use\\nthe\\xa0licensed\\xa0materials\\xa0to\\xa0the\\xa0extent\\xa0that\\xa0it\\xa0is\\xa0a\\xa0member\\xa0in\\xa0good\\xa0standing\\xa0of\\xa0the\\xa0Chase\\xa0Affiliate\\xa0Program', 'offset_answer_start': 13755, 'offset_answer_end': 13893, 'context': 'Affiliate\\xa0is\\xa0only\\xa0entitled\\xa0to\\xa0use\\nthe\\xa0licensed\\xa0materials\\xa0to\\xa0the\\xa0extent\\xa0that\\xa0it\\xa0is\\xa0a\\xa0member\\xa0in\\xa0good\\xa0standing\\xa0of\\xa0the\\xa0Chase\\xa0Affiliate\\xa0Program', 'offset_context_start': 13755, 'offset_context_end': 13893, 'document_id': '0-0'}, {'score': 7.952239990234375, 'probability': None, 'answer': 'Governing\\xa0Law\\n\\xa0\\nThis\\xa0Agreement\\xa0will\\xa0be\\xa0governed\\xa0in\\xa0all\\xa0respects\\xa0by\\xa0the\\xa0laws\\xa0of\\xa0the\\xa0State\\xa0of\\xa0Delaware', 'offset_answer_start': 18653, 'offset_answer_end': 18753, 'context': 'Governing\\xa0Law\\n\\xa0\\nThis\\xa0Agreement\\xa0will\\xa0be\\xa0governed\\xa0in\\xa0all\\xa0respects\\xa0by\\xa0the\\xa0laws\\xa0of\\xa0the\\xa0State\\xa0of\\xa0Delaware', 'offset_context_start': 18653, 'offset_context_end': 18753, 'document_id': '0-0'}, {'score': 7.711147308349609, 'probability': None, 'answer': 'the\\xa0laws\\xa0of\\xa0the\\xa0State\\xa0of\\xa0Delaware', 'offset_answer_start': 18720, 'offset_answer_end': 18753, 'context': 'll\\xa0be\\xa0governed\\xa0in\\xa0all\\xa0respects\\xa0by\\xa0the\\xa0laws\\xa0of\\xa0the\\xa0State\\xa0of\\xa0Delaware,\\xa0including\\xa0its\\xa0conflict\\xa0with\\xa0law', 'offset_context_start': 18686, 'offset_context_end': 18786, 'document_id': '0-0'}, {'score': 6.54671573638916, 'probability': None, 'answer': 'copyright,\\xa0trademark\\xa0or\\xa0other\\xa0intellectual\\xa0property\\xa0rights', 'offset_answer_start': 2644, 'offset_answer_end': 2702, 'context': 's\\xa0to\\xa0infringe\\xa0on\\xa0any\\xa0copyright,\\xa0trademark\\xa0or\\xa0other\\xa0intellectual\\xa0property\\xa0rights\\n\\xa0\\n•\\xa0Contains\\xa0or\\xa0prom', 'offset_context_start': 2623, 'offset_context_end': 2723, 'document_id': '0-0'}, {'score': 6.474060535430908, 'probability': None, 'answer': 'Delaware', 'offset_answer_start': 18745, 'offset_answer_end': 18753, 'context': 'd\\xa0in\\xa0all\\xa0respects\\xa0by\\xa0the\\xa0laws\\xa0of\\xa0the\\xa0State\\xa0of\\xa0Delaware,\\xa0including\\xa0its\\xa0conflict\\xa0with\\xa0law\\xa0provisions.\\n', 'offset_context_start': 18699, 'offset_context_end': 18799, 'document_id': '0-0'}], 'no_ans_gap': 5.0441575050354}]}]"
   ]
  },
  {
   "cell_type": "code",
   "execution_count": 18,
   "metadata": {},
   "outputs": [],
   "source": [
    "for i in dic[0]['predictions'][0]['answers']:\n",
    "    i['answer'] = i['answer'].replace(u'\\xa0',' ')"
   ]
  },
  {
   "cell_type": "code",
   "execution_count": 19,
   "metadata": {},
   "outputs": [
    {
     "data": {
      "text/plain": [
       "[{'task': 'qa',\n",
       "  'predictions': [{'question': 'What is the jurisdiction of the agreement/contract?',\n",
       "    'id': '0-0',\n",
       "    'ground_truth': [],\n",
       "    'answers': [{'score': 8.662841796875,\n",
       "      'probability': None,\n",
       "      'answer': 'Affiliate is only entitled to use\\nthe licensed materials to the extent that it is a member in good standing of the Chase Affiliate Program',\n",
       "      'offset_answer_start': 13755,\n",
       "      'offset_answer_end': 13893,\n",
       "      'context': 'Affiliate\\xa0is\\xa0only\\xa0entitled\\xa0to\\xa0use\\nthe\\xa0licensed\\xa0materials\\xa0to\\xa0the\\xa0extent\\xa0that\\xa0it\\xa0is\\xa0a\\xa0member\\xa0in\\xa0good\\xa0standing\\xa0of\\xa0the\\xa0Chase\\xa0Affiliate\\xa0Program',\n",
       "      'offset_context_start': 13755,\n",
       "      'offset_context_end': 13893,\n",
       "      'document_id': '0-0'},\n",
       "     {'score': 7.952239990234375,\n",
       "      'probability': None,\n",
       "      'answer': 'Governing Law\\n \\nThis Agreement will be governed in all respects by the laws of the State of Delaware',\n",
       "      'offset_answer_start': 18653,\n",
       "      'offset_answer_end': 18753,\n",
       "      'context': 'Governing\\xa0Law\\n\\xa0\\nThis\\xa0Agreement\\xa0will\\xa0be\\xa0governed\\xa0in\\xa0all\\xa0respects\\xa0by\\xa0the\\xa0laws\\xa0of\\xa0the\\xa0State\\xa0of\\xa0Delaware',\n",
       "      'offset_context_start': 18653,\n",
       "      'offset_context_end': 18753,\n",
       "      'document_id': '0-0'},\n",
       "     {'score': 7.711147308349609,\n",
       "      'probability': None,\n",
       "      'answer': 'the laws of the State of Delaware',\n",
       "      'offset_answer_start': 18720,\n",
       "      'offset_answer_end': 18753,\n",
       "      'context': 'll\\xa0be\\xa0governed\\xa0in\\xa0all\\xa0respects\\xa0by\\xa0the\\xa0laws\\xa0of\\xa0the\\xa0State\\xa0of\\xa0Delaware,\\xa0including\\xa0its\\xa0conflict\\xa0with\\xa0law',\n",
       "      'offset_context_start': 18686,\n",
       "      'offset_context_end': 18786,\n",
       "      'document_id': '0-0'},\n",
       "     {'score': 6.54671573638916,\n",
       "      'probability': None,\n",
       "      'answer': 'copyright, trademark or other intellectual property rights',\n",
       "      'offset_answer_start': 2644,\n",
       "      'offset_answer_end': 2702,\n",
       "      'context': 's\\xa0to\\xa0infringe\\xa0on\\xa0any\\xa0copyright,\\xa0trademark\\xa0or\\xa0other\\xa0intellectual\\xa0property\\xa0rights\\n\\xa0\\n•\\xa0Contains\\xa0or\\xa0prom',\n",
       "      'offset_context_start': 2623,\n",
       "      'offset_context_end': 2723,\n",
       "      'document_id': '0-0'},\n",
       "     {'score': 6.474060535430908,\n",
       "      'probability': None,\n",
       "      'answer': 'Delaware',\n",
       "      'offset_answer_start': 18745,\n",
       "      'offset_answer_end': 18753,\n",
       "      'context': 'd\\xa0in\\xa0all\\xa0respects\\xa0by\\xa0the\\xa0laws\\xa0of\\xa0the\\xa0State\\xa0of\\xa0Delaware,\\xa0including\\xa0its\\xa0conflict\\xa0with\\xa0law\\xa0provisions.\\n',\n",
       "      'offset_context_start': 18699,\n",
       "      'offset_context_end': 18799,\n",
       "      'document_id': '0-0'}],\n",
       "    'no_ans_gap': 5.0441575050354}]}]"
      ]
     },
     "execution_count": 19,
     "metadata": {},
     "output_type": "execute_result"
    }
   ],
   "source": [
    "dic"
   ]
  },
  {
   "cell_type": "code",
   "execution_count": null,
   "metadata": {},
   "outputs": [],
   "source": []
  }
 ],
 "metadata": {
  "interpreter": {
   "hash": "5eb1e4e29302094927efed342ff93fc6fe10a308fdc1d9e99bac50c8f4ed81ff"
  },
  "kernelspec": {
   "display_name": "Python 3.8.12 64-bit ('roberta')",
   "language": "python",
   "name": "python3"
  },
  "language_info": {
   "codemirror_mode": {
    "name": "ipython",
    "version": 3
   },
   "file_extension": ".py",
   "mimetype": "text/x-python",
   "name": "python",
   "nbconvert_exporter": "python",
   "pygments_lexer": "ipython3",
   "version": "3.8.12"
  },
  "orig_nbformat": 4
 },
 "nbformat": 4,
 "nbformat_minor": 2
}
